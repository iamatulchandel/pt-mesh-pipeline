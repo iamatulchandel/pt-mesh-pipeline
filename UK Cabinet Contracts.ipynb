{
 "cells": [
  {
   "cell_type": "markdown",
   "id": "3c8d7eaf",
   "metadata": {},
   "source": [
    "UK CABINET CONTRACTS "
   ]
  },
  {
   "cell_type": "code",
   "execution_count": 71,
   "id": "e7d31cdb",
   "metadata": {},
   "outputs": [],
   "source": [
    "import requests\n",
    "import pandas\n",
    "from bs4 import BeautifulSoup\n",
    "l=[]\n",
    "base_url=\"https://www.contractsfinder.service.gov.uk/Search/Results?&page=\"\n",
    "for page in range(1,3):\n",
    "    r= requests.get(base_url+str(page)+\"#dashboard_notices.html\")\n",
    "    c= r.content\n",
    "    soup=BeautifulSoup(c,\"html.parser\")\n",
    "    all= soup.find_all(\"div\",{\"class\":\"search-result\"})\n",
    "    for item in all:\n",
    "        d={}\n",
    "        try: \n",
    "            d[\"Tender\"]=item.find(\"a\",{\"class\":[\"govuk-link\" ,\"search-result-rwh\", \"break-word\"]}).text\n",
    "        except:\n",
    "            d[\"Tender\"]=\"None\"\n",
    "        try:\n",
    "            d[\"Company\"]=item.find(\"div\",{\"class\":[\"search-result-sub-header\", \"wrap-test\"]}).text\n",
    "        except:\n",
    "            d[\"Company\"]=\"None\"\n",
    "        try:\n",
    "            d[\"Procurement\"]=item.find_all(\"div\",{\"class\":\"search-result-entry\"})[0].text.replace(\"Procurement stage\",\" \")\n",
    "        except:\n",
    "            d[\"Procurement\"]=\"None\" \n",
    "        try:\n",
    "            d[\"Notice\"]=item.find_all(\"div\",{\"class\":\"search-result-entry\"})[1].text.replace(\"Notice status\",\" \")\n",
    "        except:\n",
    "            d[\"Notice\"]=\"None\"\n",
    "        try:\n",
    "            d[\"Closing\"]=item.find_all(\"div\",{\"class\":\"search-result-entry\"})[2].text.replace(\"Closing\",\" \")\n",
    "        except:\n",
    "            d[\"Closing\"]=\"None\" \n",
    "        try:\n",
    "            d[\"Location\"]=item.find_all(\"div\",{\"class\":\"search-result-entry\"})[3].text.replace(\"Contract location\",\" \")\n",
    "        except:\n",
    "            d[\"Location\"]=\"None\"\n",
    "        try:\n",
    "            d[\"Value\"]=item.find_all(\"div\",{\"class\":\"search-result-entry\"})[4].text.replace(\"Contract value\",\" \")\n",
    "        except:\n",
    "            d[\"Value\"]=\"None\"  \n",
    "        try:\n",
    "            d[\"Date\"]=item.find_all(\"div\",{\"class\":\"search-result-entry\"})[5].text.replace(\"Publication date\",\" \")\n",
    "        except:\n",
    "            d[\"Date\"]=\"None\"    \n",
    "        l.append(d)\n",
    "df=pandas.DataFrame(l)\n",
    "#df.to_csv(\"UKCabinet2sheets.csv\")\n"
   ]
  },
  {
   "cell_type": "markdown",
   "id": "56c35e40",
   "metadata": {},
   "source": [
    "OUTPUT IS UPLOADED IN CSV FORMAT"
   ]
  }
 ],
 "metadata": {
  "kernelspec": {
   "display_name": "Python 3 (ipykernel)",
   "language": "python",
   "name": "python3"
  },
  "language_info": {
   "codemirror_mode": {
    "name": "ipython",
    "version": 3
   },
   "file_extension": ".py",
   "mimetype": "text/x-python",
   "name": "python",
   "nbconvert_exporter": "python",
   "pygments_lexer": "ipython3",
   "version": "3.10.4"
  }
 },
 "nbformat": 4,
 "nbformat_minor": 5
}
